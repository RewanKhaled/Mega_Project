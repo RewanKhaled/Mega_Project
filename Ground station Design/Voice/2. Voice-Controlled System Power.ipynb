{
 "cells": [
  {
   "cell_type": "markdown",
   "id": "94268f13",
   "metadata": {},
   "source": [
    "🔹 Step 1: Recording dataset"
   ]
  },
  {
   "cell_type": "code",
   "execution_count": 2,
   "id": "0e6a9991",
   "metadata": {},
   "outputs": [
    {
     "name": "stdout",
     "output_type": "stream",
     "text": [
      "Recording on sample 15...\n",
      "Saved dataset/on_15.wav\n",
      "Recording on sample 16...\n",
      "Saved dataset/on_16.wav\n",
      "Recording on sample 17...\n",
      "Saved dataset/on_17.wav\n",
      "Recording on sample 18...\n",
      "Saved dataset/on_18.wav\n",
      "Recording on sample 19...\n",
      "Saved dataset/on_19.wav\n",
      "Recording off sample 15...\n",
      "Saved dataset/off_15.wav\n",
      "Recording off sample 16...\n",
      "Saved dataset/off_16.wav\n",
      "Recording off sample 17...\n",
      "Saved dataset/off_17.wav\n",
      "Recording off sample 18...\n",
      "Saved dataset/off_18.wav\n",
      "Recording off sample 19...\n",
      "Saved dataset/off_19.wav\n"
     ]
    }
   ],
   "source": [
    "import sounddevice as sd\n",
    "from scipy.io.wavfile import write\n",
    "import os\n",
    "import glob\n",
    "\n",
    "def get_next_index(label, folder=\"dataset\"):\n",
    "    \"\"\"Return the next index number for the given label.\"\"\"\n",
    "    existing_files = glob.glob(f\"{folder}/{label}_*.wav\")\n",
    "    if not existing_files:\n",
    "        return 0\n",
    "    indices = [int(f.split(\"_\")[-1].split(\".\")[0]) for f in existing_files]\n",
    "    return max(indices) + 1\n",
    "\n",
    "def record_samples(label, count=5, duration=2, fs=16000, folder=\"dataset\"):\n",
    "    os.makedirs(folder, exist_ok=True)\n",
    "    start_index = get_next_index(label, folder)\n",
    "    for i in range(start_index, start_index + count):\n",
    "        print(f\"Recording {label} sample {i}...\")\n",
    "        audio = sd.rec(int(duration * fs), samplerate=fs, channels=1, dtype='int16')\n",
    "        sd.wait()\n",
    "        filename = f\"{folder}/{label}_{i}.wav\"\n",
    "        write(filename, fs, audio)\n",
    "        print(f\"Saved {filename}\")\n",
    "\n",
    "# Example: record 5 new \"on\" and 5 new \"off\"\n",
    "record_samples(\"on\", count=5)\n",
    "record_samples(\"off\", count=5)\n"
   ]
  },
  {
   "cell_type": "markdown",
   "id": "3948340c",
   "metadata": {},
   "source": [
    "🔹 Step 2: Feature Extraction"
   ]
  },
  {
   "cell_type": "code",
   "execution_count": 3,
   "id": "027697c7",
   "metadata": {},
   "outputs": [
    {
     "name": "stdout",
     "output_type": "stream",
     "text": [
      "Features shape: (40, 13)\n"
     ]
    }
   ],
   "source": [
    "import glob\n",
    "import numpy as np\n",
    "from scipy.io import wavfile\n",
    "from python_speech_features import mfcc\n",
    "\n",
    "X, y = [], []\n",
    "\n",
    "for file in glob.glob(\"dataset/*.wav\"):\n",
    "    label = 1 if \"on\" in file else 0\n",
    "    sr, audio = wavfile.read(file)\n",
    "    features = mfcc(audio, sr, numcep=13)\n",
    "    mfcc_mean = np.mean(features, axis=0)\n",
    "    X.append(mfcc_mean)\n",
    "    y.append(label)\n",
    "\n",
    "X = np.array(X)\n",
    "y = np.array(y)\n",
    "\n",
    "print(\"Features shape:\", X.shape)\n"
   ]
  },
  {
   "cell_type": "markdown",
   "id": "135a4b95",
   "metadata": {},
   "source": [
    "🔹 Step 3: Train a Simple Model"
   ]
  },
  {
   "cell_type": "code",
   "execution_count": 4,
   "id": "2a8b0379",
   "metadata": {},
   "outputs": [
    {
     "name": "stdout",
     "output_type": "stream",
     "text": [
      "Accuracy: 1.0\n",
      "Model saved as voice_model.pkl\n"
     ]
    }
   ],
   "source": [
    "from sklearn.linear_model import LogisticRegression\n",
    "from sklearn.model_selection import train_test_split\n",
    "from sklearn.metrics import accuracy_score\n",
    "\n",
    "X_train, X_test, y_train, y_test = train_test_split(X, y, test_size=0.2, random_state=42)\n",
    "\n",
    "model = LogisticRegression(max_iter=1000)\n",
    "model.fit(X_train, y_train)\n",
    "\n",
    "y_pred = model.predict(X_test)\n",
    "print(\"Accuracy:\", accuracy_score(y_test, y_pred))\n",
    "\n",
    "import joblib\n",
    "joblib.dump(model, \"voice_model.pkl\")\n",
    "print(\"Model saved as voice_model.pkl\")\n"
   ]
  },
  {
   "cell_type": "markdown",
   "id": "9ae02017",
   "metadata": {},
   "source": [
    "🔹 Step 4: Real-time Voice Command Detection"
   ]
  },
  {
   "cell_type": "code",
   "execution_count": 5,
   "id": "09394adf",
   "metadata": {},
   "outputs": [
    {
     "name": "stdout",
     "output_type": "stream",
     "text": [
      "Speak now...\n",
      "🟢 Command: ON\n",
      "Speak now...\n",
      "🟢 Command: ON\n",
      "Speak now...\n",
      "🟢 Command: ON\n",
      "Speak now...\n",
      "🟢 Command: ON\n",
      "Speak now...\n",
      "🟢 Command: ON\n",
      "Speak now...\n",
      "🟢 Command: ON\n",
      "Speak now...\n",
      "🟢 Command: ON\n",
      "Speak now...\n",
      "🔴 Command: OFF\n",
      "Stopping listener... (OFF command detected)\n"
     ]
    }
   ],
   "source": [
    "import joblib\n",
    "import sounddevice as sd\n",
    "import numpy as np\n",
    "from python_speech_features import mfcc\n",
    "import serial\n",
    "\n",
    "model = joblib.load(\"voice_model.pkl\")\n",
    "def listen_and_predict(duration=2, fs=16000):\n",
    "    print(\"Speak now...\")\n",
    "    audio = sd.rec(int(duration * fs), samplerate=fs, channels=1, dtype='int16')\n",
    "    sd.wait()\n",
    "    audio = audio.flatten()\n",
    "\n",
    "    # Extract MFCC features\n",
    "    features = mfcc(audio, fs, numcep=13)\n",
    "    mfcc_mean = np.mean(features, axis=0).reshape(1, -1)\n",
    "\n",
    "    # Predict using trained model\n",
    "    pred = model.predict(mfcc_mean)[0]\n",
    "    if pred == 1:\n",
    "        print(\"🟢 Command: ON\")\n",
    "        ## ser.write(b\"ON\\n\")\n",
    "    else:\n",
    "        print(\"🔴 Command: OFF\")\n",
    "        ## ser.write(b\"OFF\\n\")\n",
    "    return pred  \n",
    "# Connect to STM32\n",
    "## ser = serial.Serial(\"COM3\", 9600, timeout=1)\n",
    "\n",
    "while True:\n",
    "    result = listen_and_predict()\n",
    "    if result == 0:  \n",
    "        print(\"Stopping listener... (OFF command detected)\")\n",
    "        break\n"
   ]
  },
  {
   "cell_type": "code",
   "execution_count": 7,
   "id": "86046453",
   "metadata": {},
   "outputs": [],
   "source": [
    "import tkinter as tk\n",
    "import joblib\n",
    "import sounddevice as sd\n",
    "import numpy as np\n",
    "from python_speech_features import mfcc\n",
    "## import serial\n",
    "\n",
    "# Load trained model\n",
    "model = joblib.load(\"voice_model.pkl\")\n",
    "\n",
    "# Serial to STM32\n",
    "## ser = serial.Serial(\"COM3\", 9600, timeout=1)\n",
    "\n",
    "def listen_and_predict(duration=2, fs=16000):\n",
    "    audio = sd.rec(int(duration * fs), samplerate=fs, channels=1, dtype='int16')\n",
    "    sd.wait()\n",
    "    audio = audio.flatten()\n",
    "    features = mfcc(audio, fs, numcep=13)\n",
    "    mfcc_mean = np.mean(features, axis=0).reshape(1, -1)\n",
    "    return model.predict(mfcc_mean)[0]\n",
    "\n",
    "def voice_control():\n",
    "    pred = listen_and_predict()\n",
    "    if pred == 1:\n",
    "        ## ser.write(b\"ON\\n\")\n",
    "        status_var.set(\"🟢 System turned ON (voice)\")\n",
    "    else:\n",
    "        ## ser.write(b\"OFF\\n\")\n",
    "        status_var.set(\"🔴 System turned OFF (voice)\")\n",
    "\n",
    "# Tkinter GUI\n",
    "root = tk.Tk()\n",
    "root.title(\"Ground Station\")\n",
    "status_var = tk.StringVar(value=\"System Idle\")\n",
    "\n",
    "tk.Label(root, textvariable=status_var, font=(\"Arial\", 16)).pack(pady=20)\n",
    "tk.Button(root, text=\"Voice Control\", command=voice_control).pack(pady=20)\n",
    "\n",
    "root.mainloop()\n"
   ]
  }
 ],
 "metadata": {
  "kernelspec": {
   "display_name": ".venv",
   "language": "python",
   "name": "python3"
  },
  "language_info": {
   "codemirror_mode": {
    "name": "ipython",
    "version": 3
   },
   "file_extension": ".py",
   "mimetype": "text/x-python",
   "name": "python",
   "nbconvert_exporter": "python",
   "pygments_lexer": "ipython3",
   "version": "3.12.4"
  }
 },
 "nbformat": 4,
 "nbformat_minor": 5
}
